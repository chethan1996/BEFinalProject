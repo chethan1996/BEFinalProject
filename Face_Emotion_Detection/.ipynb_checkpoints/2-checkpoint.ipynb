{
 "cells": [
  {
   "cell_type": "code",
   "execution_count": null,
   "metadata": {},
   "outputs": [],
   "source": [
    "import cv2\n",
    "import numpy as np\n",
    "from PIL import Image\n",
    "import os"
   ]
  },
  {
   "cell_type": "code",
   "execution_count": null,
   "metadata": {
    "scrolled": true
   },
   "outputs": [],
   "source": [
    "# Path for face image database\n",
    "path = 'dataset'\n",
    "\n",
    "recognizer = cv2.face.LBPHFaceRecognizer_create()\n",
    "face_detector = cv2.CascadeClassifier(\"haarcascade_frontalface_default.xml\");\n",
    "eye_detector  = cv2.CascadeClassifier('haarcascade_eye_tree_eyeglasses.xml')\n",
    "nose_detector = cv2.CascadeClassifier('haarcascade_mcs_nose.xml')\n",
    "half_face_detector = cv2.CascadeClassifier('haarcascade_profileface.xml')\n"
   ]
  },
  {
   "cell_type": "code",
   "execution_count": null,
   "metadata": {},
   "outputs": [],
   "source": [
    "# function to get the images and label data\n",
    "def getImagesAndLabels(path):\n",
    "\n",
    "    imagePaths = [os.path.join(path,f) for f in os.listdir(path)]     \n",
    "    faceSamples=[]\n",
    "    ids = []\n",
    "\n",
    "    for imagePath in imagePaths:\n",
    "\n",
    "        PIL_img = Image.open(imagePath).convert('L') # convert it to grayscale\n",
    "        img_numpy = np.array(PIL_img,'uint8')\n",
    "\n",
    "        id = int(os.path.split(imagePath)[-1].split(\".\")[1])\n",
    "        faces = face_detector.detectMultiScale(img_numpy)\n",
    "\n",
    "        for (x,y,w,h) in faces:\n",
    "            eye = eye_detector.detectMultiScale(img_numpy)\n",
    "            nose = nose_detector.detectMultiScale(img_numpy)\n",
    "            half_face = half_face_detector.detectMultiScale(img_numpy)\n",
    "            faceSamples.append(img_numpy[y:y+h,x:x+w])\n",
    "            ids.append(id)\n",
    "\n",
    "    return faceSamples,ids\n",
    "\n",
    "print (\"\\n [INFO] Training faces. It will take a few seconds. Wait ...\")\n",
    "faces,ids = getImagesAndLabels(path)\n",
    "recognizer.train(faces, np.array(ids))\n",
    "\n",
    "# Save the model into trainer/trainer.yml\n",
    "recognizer.write('trainer/trainer.h5') # recognizer.save() worked on Mac, but not on Pi\n",
    "\n",
    "# Print the numer of faces trained and end program\n",
    "print(\"\\n [INFO] {0} Faces Trained. Exiting Program\".format(len(np.unique(ids))))\n",
    "print(\"\\n Know your a known persons list ):-\")"
   ]
  },
  {
   "cell_type": "code",
   "execution_count": null,
   "metadata": {
    "collapsed": true
   },
   "outputs": [],
   "source": []
  }
 ],
 "metadata": {
  "anaconda-cloud": {},
  "kernelspec": {
   "display_name": "Python 3",
   "language": "python",
   "name": "python3"
  },
  "language_info": {
   "codemirror_mode": {
    "name": "ipython",
    "version": 3
   },
   "file_extension": ".py",
   "mimetype": "text/x-python",
   "name": "python",
   "nbconvert_exporter": "python",
   "pygments_lexer": "ipython3",
   "version": "3.5.6"
  }
 },
 "nbformat": 4,
 "nbformat_minor": 1
}
